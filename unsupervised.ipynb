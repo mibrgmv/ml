{
  "nbformat": 4,
  "nbformat_minor": 0,
  "metadata": {
    "colab": {
      "provenance": [],
      "collapsed_sections": [
        "g-KzF-fQc0Ar",
        "32FqQ6UDxx-Z",
        "Eprhb-9oBd3g",
        "fqS47J2wuh1h",
        "6iUCwfDzulsM",
        "VGvitnPJutd_",
        "KASmAnOeDjH-",
        "Ueh2OI_WuvOZ"
      ]
    },
    "kernelspec": {
      "name": "python3",
      "display_name": "Python 3"
    },
    "language_info": {
      "name": "python"
    }
  },
  "cells": [
    {
      "cell_type": "markdown",
      "source": [
        "# Подготовка датасета"
      ],
      "metadata": {
        "id": "QOarMd0jySDS"
      }
    },
    {
      "cell_type": "markdown",
      "source": [
        "## Имортируем зависимости"
      ],
      "metadata": {
        "id": "ZKiYCj8Px6EG"
      }
    },
    {
      "cell_type": "code",
      "source": [
        "import pandas as pd\n",
        "import numpy as np\n",
        "import matplotlib.pyplot as plt\n",
        "from scipy import stats\n",
        "from sklearn.model_selection import train_test_split\n",
        "from sklearn.linear_model import LinearRegression\n",
        "from sklearn.metrics import mean_squared_error, mean_absolute_error, r2_score\n",
        "from sklearn.preprocessing import StandardScaler\n",
        "from sklearn.cluster import KMeans\n",
        "from sklearn.metrics import silhouette_score\n",
        "from sklearn.metrics import davies_bouldin_score\n",
        "from sklearn.decomposition import PCA"
      ],
      "metadata": {
        "id": "UrB42AM-ptEB"
      },
      "execution_count": 106,
      "outputs": []
    },
    {
      "cell_type": "markdown",
      "source": [
        "## Описание параметров\n"
      ],
      "metadata": {
        "id": "g-KzF-fQc0Ar"
      }
    },
    {
      "cell_type": "markdown",
      "source": [
        "**title** (string): Текстовое название фильма.\n",
        "\n",
        "**genres** (list of strings): Список жанров, к которым относится фильм.\n",
        "\n",
        "**release_date** (datetime): Дата, когда фильм был выпущен.\n",
        "\n",
        "**runtime** (integer): Длительность фильма в минутах.\n",
        "\n",
        "**budget** (integer): Бюджет, выделенный на производство фильма. Может отсутствовать для некоторых фильмов.\n",
        "\n",
        "**revenue** (integer):  Сумма сборов фильма в прокате. Может отсутствовать для некоторых фильмов.\n",
        "\n",
        "**director** (string):  Имя режиссера фильма. Может отсутствовать или содержать имя первого члена съемочной группы, если информация о режиссере недоступна.\n",
        "\n",
        "**popularity** (float): Рейтинг популярности фильма, рассчитанный TMDB.\n",
        "\n",
        "**vote_average** (float): Средняя оценка фильма, выставленная пользователями.\n",
        "\n",
        "**vote_count** (integer): Количество оценок, поставленных пользователями.\n",
        "\n",
        "**overview** (string): Краткое описание сюжета фильма."
      ],
      "metadata": {
        "id": "-GlPEqFCdDHr"
      }
    },
    {
      "cell_type": "markdown",
      "source": [
        "## Выводим исходный датасет"
      ],
      "metadata": {
        "id": "zR_9XkzGxmft"
      }
    },
    {
      "cell_type": "code",
      "source": [
        "df = pd.read_csv('tmdb_movies_2.csv',  lineterminator='\\n')\n",
        "df"
      ],
      "metadata": {
        "colab": {
          "base_uri": "https://localhost:8080/",
          "height": 1000
        },
        "id": "ZdcEEu7fpxkP",
        "outputId": "8f4b3296-d643-4fa5-8389-6ac0d054de06"
      },
      "execution_count": 107,
      "outputs": [
        {
          "output_type": "execute_result",
          "data": {
            "text/plain": [
              "                         title                                      genres  \\\n",
              "0                  Terrifier 3           ['Horror', 'Thriller', 'Mystery']   \n",
              "1        Venom: The Last Dance  ['Science Fiction', 'Action', 'Adventure']   \n",
              "2               The Wild Robot  ['Animation', 'Science Fiction', 'Family']   \n",
              "3                The Substance      ['Drama', 'Horror', 'Science Fiction']   \n",
              "4          Joker: Folie à Deux              ['Drama', 'Crime', 'Thriller']   \n",
              "...                        ...                                         ...   \n",
              "5975  Manhattan Murder Mystery                       ['Comedy', 'Mystery']   \n",
              "5976                 From Hell           ['Horror', 'Mystery', 'Thriller']   \n",
              "5977           Playing It Cool                       ['Comedy', 'Romance']   \n",
              "5978                 Abduction           ['Thriller', 'Action', 'Mystery']   \n",
              "5979                  Papillon                                   ['Drama']   \n",
              "\n",
              "     release_date  runtime     budget    revenue          director  \\\n",
              "0      2024-10-09      125    2000000   59156753        Brad Miska   \n",
              "1      2024-10-22      109  120000000  310000000  David Michelinie   \n",
              "2      2024-09-12      102   78000000  269785520      Dean DeBlois   \n",
              "3      2024-09-07      141   17500000   42776354         Anne Juin   \n",
              "4      2024-10-01      138  195000000  200714058       Bill Finger   \n",
              "...           ...      ...        ...        ...               ...   \n",
              "5975   1993-05-02      104   13500000   11285588       Woody Allen   \n",
              "5976   2001-02-08      122   35000000   74558115     Albert Hughes   \n",
              "5977   2014-09-26       94          0    1323415      Chris Shafer   \n",
              "5978   2011-09-22      106   35000000   82087155    Robert Jackson   \n",
              "5979   2017-09-07      134          0   10060903     Dalton Trumbo   \n",
              "\n",
              "      popularity  vote_average  vote_count  \\\n",
              "0       6883.159         7.300         601   \n",
              "1       5590.757         6.696         479   \n",
              "2       4321.421         8.546        2392   \n",
              "3       2881.789         7.319        1384   \n",
              "4       2614.505         5.682        1350   \n",
              "...          ...           ...         ...   \n",
              "5975      19.251         7.277        1061   \n",
              "5976      19.249         6.695        2767   \n",
              "5977      19.247         5.877         741   \n",
              "5978      19.247         5.866        2853   \n",
              "5979      19.245         7.300        1914   \n",
              "\n",
              "                                               overview  \n",
              "0     Five years after surviving Art the Clown's Hal...  \n",
              "1     Eddie and Venom are on the run. Hunted by both...  \n",
              "2     After a shipwreck, an intelligent robot called...  \n",
              "3     Have you ever dreamt of a better version of yo...  \n",
              "4     While struggling with his dual identity, Arthu...  \n",
              "...                                                 ...  \n",
              "5975  A middle-aged couple suspects foul play when t...  \n",
              "5976  Frederick Abberline is an opium-huffing inspec...  \n",
              "5977  A young man meets and instantly falls in love ...  \n",
              "5978  For many years, Nathan Harper has had the unea...  \n",
              "5979  Henri “Papillon” Charrière, a safecracker from...  \n",
              "\n",
              "[5980 rows x 11 columns]"
            ],
            "text/html": [
              "\n",
              "  <div id=\"df-fd651afa-4fb5-417a-a54d-080686250f31\" class=\"colab-df-container\">\n",
              "    <div>\n",
              "<style scoped>\n",
              "    .dataframe tbody tr th:only-of-type {\n",
              "        vertical-align: middle;\n",
              "    }\n",
              "\n",
              "    .dataframe tbody tr th {\n",
              "        vertical-align: top;\n",
              "    }\n",
              "\n",
              "    .dataframe thead th {\n",
              "        text-align: right;\n",
              "    }\n",
              "</style>\n",
              "<table border=\"1\" class=\"dataframe\">\n",
              "  <thead>\n",
              "    <tr style=\"text-align: right;\">\n",
              "      <th></th>\n",
              "      <th>title</th>\n",
              "      <th>genres</th>\n",
              "      <th>release_date</th>\n",
              "      <th>runtime</th>\n",
              "      <th>budget</th>\n",
              "      <th>revenue</th>\n",
              "      <th>director</th>\n",
              "      <th>popularity</th>\n",
              "      <th>vote_average</th>\n",
              "      <th>vote_count</th>\n",
              "      <th>overview</th>\n",
              "    </tr>\n",
              "  </thead>\n",
              "  <tbody>\n",
              "    <tr>\n",
              "      <th>0</th>\n",
              "      <td>Terrifier 3</td>\n",
              "      <td>['Horror', 'Thriller', 'Mystery']</td>\n",
              "      <td>2024-10-09</td>\n",
              "      <td>125</td>\n",
              "      <td>2000000</td>\n",
              "      <td>59156753</td>\n",
              "      <td>Brad Miska</td>\n",
              "      <td>6883.159</td>\n",
              "      <td>7.300</td>\n",
              "      <td>601</td>\n",
              "      <td>Five years after surviving Art the Clown's Hal...</td>\n",
              "    </tr>\n",
              "    <tr>\n",
              "      <th>1</th>\n",
              "      <td>Venom: The Last Dance</td>\n",
              "      <td>['Science Fiction', 'Action', 'Adventure']</td>\n",
              "      <td>2024-10-22</td>\n",
              "      <td>109</td>\n",
              "      <td>120000000</td>\n",
              "      <td>310000000</td>\n",
              "      <td>David Michelinie</td>\n",
              "      <td>5590.757</td>\n",
              "      <td>6.696</td>\n",
              "      <td>479</td>\n",
              "      <td>Eddie and Venom are on the run. Hunted by both...</td>\n",
              "    </tr>\n",
              "    <tr>\n",
              "      <th>2</th>\n",
              "      <td>The Wild Robot</td>\n",
              "      <td>['Animation', 'Science Fiction', 'Family']</td>\n",
              "      <td>2024-09-12</td>\n",
              "      <td>102</td>\n",
              "      <td>78000000</td>\n",
              "      <td>269785520</td>\n",
              "      <td>Dean DeBlois</td>\n",
              "      <td>4321.421</td>\n",
              "      <td>8.546</td>\n",
              "      <td>2392</td>\n",
              "      <td>After a shipwreck, an intelligent robot called...</td>\n",
              "    </tr>\n",
              "    <tr>\n",
              "      <th>3</th>\n",
              "      <td>The Substance</td>\n",
              "      <td>['Drama', 'Horror', 'Science Fiction']</td>\n",
              "      <td>2024-09-07</td>\n",
              "      <td>141</td>\n",
              "      <td>17500000</td>\n",
              "      <td>42776354</td>\n",
              "      <td>Anne Juin</td>\n",
              "      <td>2881.789</td>\n",
              "      <td>7.319</td>\n",
              "      <td>1384</td>\n",
              "      <td>Have you ever dreamt of a better version of yo...</td>\n",
              "    </tr>\n",
              "    <tr>\n",
              "      <th>4</th>\n",
              "      <td>Joker: Folie à Deux</td>\n",
              "      <td>['Drama', 'Crime', 'Thriller']</td>\n",
              "      <td>2024-10-01</td>\n",
              "      <td>138</td>\n",
              "      <td>195000000</td>\n",
              "      <td>200714058</td>\n",
              "      <td>Bill Finger</td>\n",
              "      <td>2614.505</td>\n",
              "      <td>5.682</td>\n",
              "      <td>1350</td>\n",
              "      <td>While struggling with his dual identity, Arthu...</td>\n",
              "    </tr>\n",
              "    <tr>\n",
              "      <th>...</th>\n",
              "      <td>...</td>\n",
              "      <td>...</td>\n",
              "      <td>...</td>\n",
              "      <td>...</td>\n",
              "      <td>...</td>\n",
              "      <td>...</td>\n",
              "      <td>...</td>\n",
              "      <td>...</td>\n",
              "      <td>...</td>\n",
              "      <td>...</td>\n",
              "      <td>...</td>\n",
              "    </tr>\n",
              "    <tr>\n",
              "      <th>5975</th>\n",
              "      <td>Manhattan Murder Mystery</td>\n",
              "      <td>['Comedy', 'Mystery']</td>\n",
              "      <td>1993-05-02</td>\n",
              "      <td>104</td>\n",
              "      <td>13500000</td>\n",
              "      <td>11285588</td>\n",
              "      <td>Woody Allen</td>\n",
              "      <td>19.251</td>\n",
              "      <td>7.277</td>\n",
              "      <td>1061</td>\n",
              "      <td>A middle-aged couple suspects foul play when t...</td>\n",
              "    </tr>\n",
              "    <tr>\n",
              "      <th>5976</th>\n",
              "      <td>From Hell</td>\n",
              "      <td>['Horror', 'Mystery', 'Thriller']</td>\n",
              "      <td>2001-02-08</td>\n",
              "      <td>122</td>\n",
              "      <td>35000000</td>\n",
              "      <td>74558115</td>\n",
              "      <td>Albert Hughes</td>\n",
              "      <td>19.249</td>\n",
              "      <td>6.695</td>\n",
              "      <td>2767</td>\n",
              "      <td>Frederick Abberline is an opium-huffing inspec...</td>\n",
              "    </tr>\n",
              "    <tr>\n",
              "      <th>5977</th>\n",
              "      <td>Playing It Cool</td>\n",
              "      <td>['Comedy', 'Romance']</td>\n",
              "      <td>2014-09-26</td>\n",
              "      <td>94</td>\n",
              "      <td>0</td>\n",
              "      <td>1323415</td>\n",
              "      <td>Chris Shafer</td>\n",
              "      <td>19.247</td>\n",
              "      <td>5.877</td>\n",
              "      <td>741</td>\n",
              "      <td>A young man meets and instantly falls in love ...</td>\n",
              "    </tr>\n",
              "    <tr>\n",
              "      <th>5978</th>\n",
              "      <td>Abduction</td>\n",
              "      <td>['Thriller', 'Action', 'Mystery']</td>\n",
              "      <td>2011-09-22</td>\n",
              "      <td>106</td>\n",
              "      <td>35000000</td>\n",
              "      <td>82087155</td>\n",
              "      <td>Robert Jackson</td>\n",
              "      <td>19.247</td>\n",
              "      <td>5.866</td>\n",
              "      <td>2853</td>\n",
              "      <td>For many years, Nathan Harper has had the unea...</td>\n",
              "    </tr>\n",
              "    <tr>\n",
              "      <th>5979</th>\n",
              "      <td>Papillon</td>\n",
              "      <td>['Drama']</td>\n",
              "      <td>2017-09-07</td>\n",
              "      <td>134</td>\n",
              "      <td>0</td>\n",
              "      <td>10060903</td>\n",
              "      <td>Dalton Trumbo</td>\n",
              "      <td>19.245</td>\n",
              "      <td>7.300</td>\n",
              "      <td>1914</td>\n",
              "      <td>Henri “Papillon” Charrière, a safecracker from...</td>\n",
              "    </tr>\n",
              "  </tbody>\n",
              "</table>\n",
              "<p>5980 rows × 11 columns</p>\n",
              "</div>\n",
              "    <div class=\"colab-df-buttons\">\n",
              "\n",
              "  <div class=\"colab-df-container\">\n",
              "    <button class=\"colab-df-convert\" onclick=\"convertToInteractive('df-fd651afa-4fb5-417a-a54d-080686250f31')\"\n",
              "            title=\"Convert this dataframe to an interactive table.\"\n",
              "            style=\"display:none;\">\n",
              "\n",
              "  <svg xmlns=\"http://www.w3.org/2000/svg\" height=\"24px\" viewBox=\"0 -960 960 960\">\n",
              "    <path d=\"M120-120v-720h720v720H120Zm60-500h600v-160H180v160Zm220 220h160v-160H400v160Zm0 220h160v-160H400v160ZM180-400h160v-160H180v160Zm440 0h160v-160H620v160ZM180-180h160v-160H180v160Zm440 0h160v-160H620v160Z\"/>\n",
              "  </svg>\n",
              "    </button>\n",
              "\n",
              "  <style>\n",
              "    .colab-df-container {\n",
              "      display:flex;\n",
              "      gap: 12px;\n",
              "    }\n",
              "\n",
              "    .colab-df-convert {\n",
              "      background-color: #E8F0FE;\n",
              "      border: none;\n",
              "      border-radius: 50%;\n",
              "      cursor: pointer;\n",
              "      display: none;\n",
              "      fill: #1967D2;\n",
              "      height: 32px;\n",
              "      padding: 0 0 0 0;\n",
              "      width: 32px;\n",
              "    }\n",
              "\n",
              "    .colab-df-convert:hover {\n",
              "      background-color: #E2EBFA;\n",
              "      box-shadow: 0px 1px 2px rgba(60, 64, 67, 0.3), 0px 1px 3px 1px rgba(60, 64, 67, 0.15);\n",
              "      fill: #174EA6;\n",
              "    }\n",
              "\n",
              "    .colab-df-buttons div {\n",
              "      margin-bottom: 4px;\n",
              "    }\n",
              "\n",
              "    [theme=dark] .colab-df-convert {\n",
              "      background-color: #3B4455;\n",
              "      fill: #D2E3FC;\n",
              "    }\n",
              "\n",
              "    [theme=dark] .colab-df-convert:hover {\n",
              "      background-color: #434B5C;\n",
              "      box-shadow: 0px 1px 3px 1px rgba(0, 0, 0, 0.15);\n",
              "      filter: drop-shadow(0px 1px 2px rgba(0, 0, 0, 0.3));\n",
              "      fill: #FFFFFF;\n",
              "    }\n",
              "  </style>\n",
              "\n",
              "    <script>\n",
              "      const buttonEl =\n",
              "        document.querySelector('#df-fd651afa-4fb5-417a-a54d-080686250f31 button.colab-df-convert');\n",
              "      buttonEl.style.display =\n",
              "        google.colab.kernel.accessAllowed ? 'block' : 'none';\n",
              "\n",
              "      async function convertToInteractive(key) {\n",
              "        const element = document.querySelector('#df-fd651afa-4fb5-417a-a54d-080686250f31');\n",
              "        const dataTable =\n",
              "          await google.colab.kernel.invokeFunction('convertToInteractive',\n",
              "                                                    [key], {});\n",
              "        if (!dataTable) return;\n",
              "\n",
              "        const docLinkHtml = 'Like what you see? Visit the ' +\n",
              "          '<a target=\"_blank\" href=https://colab.research.google.com/notebooks/data_table.ipynb>data table notebook</a>'\n",
              "          + ' to learn more about interactive tables.';\n",
              "        element.innerHTML = '';\n",
              "        dataTable['output_type'] = 'display_data';\n",
              "        await google.colab.output.renderOutput(dataTable, element);\n",
              "        const docLink = document.createElement('div');\n",
              "        docLink.innerHTML = docLinkHtml;\n",
              "        element.appendChild(docLink);\n",
              "      }\n",
              "    </script>\n",
              "  </div>\n",
              "\n",
              "\n",
              "<div id=\"df-889cd9a0-58e9-4876-aa2c-df9a99dad397\">\n",
              "  <button class=\"colab-df-quickchart\" onclick=\"quickchart('df-889cd9a0-58e9-4876-aa2c-df9a99dad397')\"\n",
              "            title=\"Suggest charts\"\n",
              "            style=\"display:none;\">\n",
              "\n",
              "<svg xmlns=\"http://www.w3.org/2000/svg\" height=\"24px\"viewBox=\"0 0 24 24\"\n",
              "     width=\"24px\">\n",
              "    <g>\n",
              "        <path d=\"M19 3H5c-1.1 0-2 .9-2 2v14c0 1.1.9 2 2 2h14c1.1 0 2-.9 2-2V5c0-1.1-.9-2-2-2zM9 17H7v-7h2v7zm4 0h-2V7h2v10zm4 0h-2v-4h2v4z\"/>\n",
              "    </g>\n",
              "</svg>\n",
              "  </button>\n",
              "\n",
              "<style>\n",
              "  .colab-df-quickchart {\n",
              "      --bg-color: #E8F0FE;\n",
              "      --fill-color: #1967D2;\n",
              "      --hover-bg-color: #E2EBFA;\n",
              "      --hover-fill-color: #174EA6;\n",
              "      --disabled-fill-color: #AAA;\n",
              "      --disabled-bg-color: #DDD;\n",
              "  }\n",
              "\n",
              "  [theme=dark] .colab-df-quickchart {\n",
              "      --bg-color: #3B4455;\n",
              "      --fill-color: #D2E3FC;\n",
              "      --hover-bg-color: #434B5C;\n",
              "      --hover-fill-color: #FFFFFF;\n",
              "      --disabled-bg-color: #3B4455;\n",
              "      --disabled-fill-color: #666;\n",
              "  }\n",
              "\n",
              "  .colab-df-quickchart {\n",
              "    background-color: var(--bg-color);\n",
              "    border: none;\n",
              "    border-radius: 50%;\n",
              "    cursor: pointer;\n",
              "    display: none;\n",
              "    fill: var(--fill-color);\n",
              "    height: 32px;\n",
              "    padding: 0;\n",
              "    width: 32px;\n",
              "  }\n",
              "\n",
              "  .colab-df-quickchart:hover {\n",
              "    background-color: var(--hover-bg-color);\n",
              "    box-shadow: 0 1px 2px rgba(60, 64, 67, 0.3), 0 1px 3px 1px rgba(60, 64, 67, 0.15);\n",
              "    fill: var(--button-hover-fill-color);\n",
              "  }\n",
              "\n",
              "  .colab-df-quickchart-complete:disabled,\n",
              "  .colab-df-quickchart-complete:disabled:hover {\n",
              "    background-color: var(--disabled-bg-color);\n",
              "    fill: var(--disabled-fill-color);\n",
              "    box-shadow: none;\n",
              "  }\n",
              "\n",
              "  .colab-df-spinner {\n",
              "    border: 2px solid var(--fill-color);\n",
              "    border-color: transparent;\n",
              "    border-bottom-color: var(--fill-color);\n",
              "    animation:\n",
              "      spin 1s steps(1) infinite;\n",
              "  }\n",
              "\n",
              "  @keyframes spin {\n",
              "    0% {\n",
              "      border-color: transparent;\n",
              "      border-bottom-color: var(--fill-color);\n",
              "      border-left-color: var(--fill-color);\n",
              "    }\n",
              "    20% {\n",
              "      border-color: transparent;\n",
              "      border-left-color: var(--fill-color);\n",
              "      border-top-color: var(--fill-color);\n",
              "    }\n",
              "    30% {\n",
              "      border-color: transparent;\n",
              "      border-left-color: var(--fill-color);\n",
              "      border-top-color: var(--fill-color);\n",
              "      border-right-color: var(--fill-color);\n",
              "    }\n",
              "    40% {\n",
              "      border-color: transparent;\n",
              "      border-right-color: var(--fill-color);\n",
              "      border-top-color: var(--fill-color);\n",
              "    }\n",
              "    60% {\n",
              "      border-color: transparent;\n",
              "      border-right-color: var(--fill-color);\n",
              "    }\n",
              "    80% {\n",
              "      border-color: transparent;\n",
              "      border-right-color: var(--fill-color);\n",
              "      border-bottom-color: var(--fill-color);\n",
              "    }\n",
              "    90% {\n",
              "      border-color: transparent;\n",
              "      border-bottom-color: var(--fill-color);\n",
              "    }\n",
              "  }\n",
              "</style>\n",
              "\n",
              "  <script>\n",
              "    async function quickchart(key) {\n",
              "      const quickchartButtonEl =\n",
              "        document.querySelector('#' + key + ' button');\n",
              "      quickchartButtonEl.disabled = true;  // To prevent multiple clicks.\n",
              "      quickchartButtonEl.classList.add('colab-df-spinner');\n",
              "      try {\n",
              "        const charts = await google.colab.kernel.invokeFunction(\n",
              "            'suggestCharts', [key], {});\n",
              "      } catch (error) {\n",
              "        console.error('Error during call to suggestCharts:', error);\n",
              "      }\n",
              "      quickchartButtonEl.classList.remove('colab-df-spinner');\n",
              "      quickchartButtonEl.classList.add('colab-df-quickchart-complete');\n",
              "    }\n",
              "    (() => {\n",
              "      let quickchartButtonEl =\n",
              "        document.querySelector('#df-889cd9a0-58e9-4876-aa2c-df9a99dad397 button');\n",
              "      quickchartButtonEl.style.display =\n",
              "        google.colab.kernel.accessAllowed ? 'block' : 'none';\n",
              "    })();\n",
              "  </script>\n",
              "</div>\n",
              "\n",
              "  <div id=\"id_c60a38cc-adae-4535-9fb8-fc59d9107a3c\">\n",
              "    <style>\n",
              "      .colab-df-generate {\n",
              "        background-color: #E8F0FE;\n",
              "        border: none;\n",
              "        border-radius: 50%;\n",
              "        cursor: pointer;\n",
              "        display: none;\n",
              "        fill: #1967D2;\n",
              "        height: 32px;\n",
              "        padding: 0 0 0 0;\n",
              "        width: 32px;\n",
              "      }\n",
              "\n",
              "      .colab-df-generate:hover {\n",
              "        background-color: #E2EBFA;\n",
              "        box-shadow: 0px 1px 2px rgba(60, 64, 67, 0.3), 0px 1px 3px 1px rgba(60, 64, 67, 0.15);\n",
              "        fill: #174EA6;\n",
              "      }\n",
              "\n",
              "      [theme=dark] .colab-df-generate {\n",
              "        background-color: #3B4455;\n",
              "        fill: #D2E3FC;\n",
              "      }\n",
              "\n",
              "      [theme=dark] .colab-df-generate:hover {\n",
              "        background-color: #434B5C;\n",
              "        box-shadow: 0px 1px 3px 1px rgba(0, 0, 0, 0.15);\n",
              "        filter: drop-shadow(0px 1px 2px rgba(0, 0, 0, 0.3));\n",
              "        fill: #FFFFFF;\n",
              "      }\n",
              "    </style>\n",
              "    <button class=\"colab-df-generate\" onclick=\"generateWithVariable('df')\"\n",
              "            title=\"Generate code using this dataframe.\"\n",
              "            style=\"display:none;\">\n",
              "\n",
              "  <svg xmlns=\"http://www.w3.org/2000/svg\" height=\"24px\"viewBox=\"0 0 24 24\"\n",
              "       width=\"24px\">\n",
              "    <path d=\"M7,19H8.4L18.45,9,17,7.55,7,17.6ZM5,21V16.75L18.45,3.32a2,2,0,0,1,2.83,0l1.4,1.43a1.91,1.91,0,0,1,.58,1.4,1.91,1.91,0,0,1-.58,1.4L9.25,21ZM18.45,9,17,7.55Zm-12,3A5.31,5.31,0,0,0,4.9,8.1,5.31,5.31,0,0,0,1,6.5,5.31,5.31,0,0,0,4.9,4.9,5.31,5.31,0,0,0,6.5,1,5.31,5.31,0,0,0,8.1,4.9,5.31,5.31,0,0,0,12,6.5,5.46,5.46,0,0,0,6.5,12Z\"/>\n",
              "  </svg>\n",
              "    </button>\n",
              "    <script>\n",
              "      (() => {\n",
              "      const buttonEl =\n",
              "        document.querySelector('#id_c60a38cc-adae-4535-9fb8-fc59d9107a3c button.colab-df-generate');\n",
              "      buttonEl.style.display =\n",
              "        google.colab.kernel.accessAllowed ? 'block' : 'none';\n",
              "\n",
              "      buttonEl.onclick = () => {\n",
              "        google.colab.notebook.generateWithVariable('df');\n",
              "      }\n",
              "      })();\n",
              "    </script>\n",
              "  </div>\n",
              "\n",
              "    </div>\n",
              "  </div>\n"
            ],
            "application/vnd.google.colaboratory.intrinsic+json": {
              "type": "dataframe",
              "variable_name": "df",
              "summary": "{\n  \"name\": \"df\",\n  \"rows\": 5980,\n  \"fields\": [\n    {\n      \"column\": \"title\",\n      \"properties\": {\n        \"dtype\": \"string\",\n        \"num_unique_values\": 5809,\n        \"samples\": [\n          \"Autumn and the Black Jaguar\",\n          \"The Craft\",\n          \"Chandu Champion\"\n        ],\n        \"semantic_type\": \"\",\n        \"description\": \"\"\n      }\n    },\n    {\n      \"column\": \"genres\",\n      \"properties\": {\n        \"dtype\": \"category\",\n        \"num_unique_values\": 1586,\n        \"samples\": [\n          \"['Family', 'Science Fiction', 'Fantasy', 'Comedy']\",\n          \"['Drama', 'Romance', 'War']\",\n          \"['Thriller', 'Science Fiction', 'Drama']\"\n        ],\n        \"semantic_type\": \"\",\n        \"description\": \"\"\n      }\n    },\n    {\n      \"column\": \"release_date\",\n      \"properties\": {\n        \"dtype\": \"object\",\n        \"num_unique_values\": 3983,\n        \"samples\": [\n          \"2023-10-27\",\n          \"2019-10-24\",\n          \"2008-09-19\"\n        ],\n        \"semantic_type\": \"\",\n        \"description\": \"\"\n      }\n    },\n    {\n      \"column\": \"runtime\",\n      \"properties\": {\n        \"dtype\": \"number\",\n        \"std\": 30,\n        \"min\": 0,\n        \"max\": 295,\n        \"num_unique_values\": 206,\n        \"samples\": [\n          94,\n          128,\n          254\n        ],\n        \"semantic_type\": \"\",\n        \"description\": \"\"\n      }\n    },\n    {\n      \"column\": \"budget\",\n      \"properties\": {\n        \"dtype\": \"number\",\n        \"std\": 47818757,\n        \"min\": 0,\n        \"max\": 460000000,\n        \"num_unique_values\": 489,\n        \"samples\": [\n          51500000,\n          220000000,\n          8020000\n        ],\n        \"semantic_type\": \"\",\n        \"description\": \"\"\n      }\n    },\n    {\n      \"column\": \"revenue\",\n      \"properties\": {\n        \"dtype\": \"number\",\n        \"std\": 196349652,\n        \"min\": 0,\n        \"max\": 2923706026,\n        \"num_unique_values\": 3451,\n        \"samples\": [\n          249348933,\n          277448382,\n          356830601\n        ],\n        \"semantic_type\": \"\",\n        \"description\": \"\"\n      }\n    },\n    {\n      \"column\": \"director\",\n      \"properties\": {\n        \"dtype\": \"string\",\n        \"num_unique_values\": 4856,\n        \"samples\": [\n          \"Kobi Libii\",\n          \"Josie Caruso\",\n          \"Steve Oedekerk\"\n        ],\n        \"semantic_type\": \"\",\n        \"description\": \"\"\n      }\n    },\n    {\n      \"column\": \"popularity\",\n      \"properties\": {\n        \"dtype\": \"number\",\n        \"std\": 170.09835302089445,\n        \"min\": 19.245,\n        \"max\": 6883.159,\n        \"num_unique_values\": 5509,\n        \"samples\": [\n          49.961,\n          55.711,\n          22.44\n        ],\n        \"semantic_type\": \"\",\n        \"description\": \"\"\n      }\n    },\n    {\n      \"column\": \"vote_average\",\n      \"properties\": {\n        \"dtype\": \"number\",\n        \"std\": 1.5211503931957138,\n        \"min\": 0.0,\n        \"max\": 10.0,\n        \"num_unique_values\": 1634,\n        \"samples\": [\n          6.665,\n          7.434,\n          8.173\n        ],\n        \"semantic_type\": \"\",\n        \"description\": \"\"\n      }\n    },\n    {\n      \"column\": \"vote_count\",\n      \"properties\": {\n        \"dtype\": \"number\",\n        \"std\": 3889,\n        \"min\": 0,\n        \"max\": 36482,\n        \"num_unique_values\": 3154,\n        \"samples\": [\n          20524,\n          2606,\n          9133\n        ],\n        \"semantic_type\": \"\",\n        \"description\": \"\"\n      }\n    },\n    {\n      \"column\": \"overview\",\n      \"properties\": {\n        \"dtype\": \"string\",\n        \"num_unique_values\": 5923,\n        \"samples\": [\n          \"Two lost souls visiting Tokyo -- the young, neglected wife of a photographer and a washed-up movie star shooting a TV commercial -- find an odd solace and pensive freedom to be real in each other's company, away from their lives in America.\",\n          \"In the 1970s, a rivalry propels race car drivers Niki Lauda and James Hunt to fame and glory \\u2014 until a horrible accident threatens to end it all.\",\n          \"When Miley Stewart (aka pop-star Hannah Montana) gets too caught up in the superstar celebrity lifestyle, her dad decides it's time for a total change of scenery. But sweet niblets! Miley must trade in all the glitz and glamour of Hollywood for some ol' blue jeans on the family farm in Tennessee, and question if she can be both Miley Stewart and Hannah Montana.\"\n        ],\n        \"semantic_type\": \"\",\n        \"description\": \"\"\n      }\n    }\n  ]\n}"
            }
          },
          "metadata": {},
          "execution_count": 107
        }
      ]
    },
    {
      "cell_type": "code",
      "source": [
        "df = df.drop(['release_date', 'title', 'overview', 'runtime'], axis=1)"
      ],
      "metadata": {
        "id": "n2F1Y3NZe_Wn"
      },
      "execution_count": 108,
      "outputs": []
    },
    {
      "cell_type": "markdown",
      "source": [
        "## Удаляем нулевые значения и дубликаты"
      ],
      "metadata": {
        "id": "32FqQ6UDxx-Z"
      }
    },
    {
      "cell_type": "code",
      "source": [
        "df.isnull().sum()"
      ],
      "metadata": {
        "collapsed": true,
        "id": "Oq7di3aSqSVB",
        "colab": {
          "base_uri": "https://localhost:8080/",
          "height": 337
        },
        "outputId": "48e5c1c6-54b7-40c5-fd17-840b45e6ba70"
      },
      "execution_count": 109,
      "outputs": [
        {
          "output_type": "execute_result",
          "data": {
            "text/plain": [
              "genres           0\n",
              "budget           0\n",
              "revenue          0\n",
              "director        36\n",
              "popularity       0\n",
              "vote_average     0\n",
              "vote_count       0\n",
              "dtype: int64"
            ],
            "text/html": [
              "<div>\n",
              "<style scoped>\n",
              "    .dataframe tbody tr th:only-of-type {\n",
              "        vertical-align: middle;\n",
              "    }\n",
              "\n",
              "    .dataframe tbody tr th {\n",
              "        vertical-align: top;\n",
              "    }\n",
              "\n",
              "    .dataframe thead th {\n",
              "        text-align: right;\n",
              "    }\n",
              "</style>\n",
              "<table border=\"1\" class=\"dataframe\">\n",
              "  <thead>\n",
              "    <tr style=\"text-align: right;\">\n",
              "      <th></th>\n",
              "      <th>0</th>\n",
              "    </tr>\n",
              "  </thead>\n",
              "  <tbody>\n",
              "    <tr>\n",
              "      <th>genres</th>\n",
              "      <td>0</td>\n",
              "    </tr>\n",
              "    <tr>\n",
              "      <th>budget</th>\n",
              "      <td>0</td>\n",
              "    </tr>\n",
              "    <tr>\n",
              "      <th>revenue</th>\n",
              "      <td>0</td>\n",
              "    </tr>\n",
              "    <tr>\n",
              "      <th>director</th>\n",
              "      <td>36</td>\n",
              "    </tr>\n",
              "    <tr>\n",
              "      <th>popularity</th>\n",
              "      <td>0</td>\n",
              "    </tr>\n",
              "    <tr>\n",
              "      <th>vote_average</th>\n",
              "      <td>0</td>\n",
              "    </tr>\n",
              "    <tr>\n",
              "      <th>vote_count</th>\n",
              "      <td>0</td>\n",
              "    </tr>\n",
              "  </tbody>\n",
              "</table>\n",
              "</div><br><label><b>dtype:</b> int64</label>"
            ]
          },
          "metadata": {},
          "execution_count": 109
        }
      ]
    },
    {
      "cell_type": "code",
      "source": [
        "df.replace('<null>', np.nan, inplace=True)"
      ],
      "metadata": {
        "collapsed": true,
        "id": "F3JMNg1pq3VT"
      },
      "execution_count": 110,
      "outputs": []
    },
    {
      "cell_type": "code",
      "source": [
        "df.dropna(inplace=True)"
      ],
      "metadata": {
        "collapsed": true,
        "id": "x9kjMAAzu11G"
      },
      "execution_count": 111,
      "outputs": []
    },
    {
      "cell_type": "code",
      "source": [
        "df.isnull().sum()"
      ],
      "metadata": {
        "collapsed": true,
        "id": "sBzkCGMMu8ti",
        "colab": {
          "base_uri": "https://localhost:8080/",
          "height": 337
        },
        "outputId": "96983e8e-3857-4e55-bc26-e2c3d9ccf6a3"
      },
      "execution_count": 112,
      "outputs": [
        {
          "output_type": "execute_result",
          "data": {
            "text/plain": [
              "genres          0\n",
              "budget          0\n",
              "revenue         0\n",
              "director        0\n",
              "popularity      0\n",
              "vote_average    0\n",
              "vote_count      0\n",
              "dtype: int64"
            ],
            "text/html": [
              "<div>\n",
              "<style scoped>\n",
              "    .dataframe tbody tr th:only-of-type {\n",
              "        vertical-align: middle;\n",
              "    }\n",
              "\n",
              "    .dataframe tbody tr th {\n",
              "        vertical-align: top;\n",
              "    }\n",
              "\n",
              "    .dataframe thead th {\n",
              "        text-align: right;\n",
              "    }\n",
              "</style>\n",
              "<table border=\"1\" class=\"dataframe\">\n",
              "  <thead>\n",
              "    <tr style=\"text-align: right;\">\n",
              "      <th></th>\n",
              "      <th>0</th>\n",
              "    </tr>\n",
              "  </thead>\n",
              "  <tbody>\n",
              "    <tr>\n",
              "      <th>genres</th>\n",
              "      <td>0</td>\n",
              "    </tr>\n",
              "    <tr>\n",
              "      <th>budget</th>\n",
              "      <td>0</td>\n",
              "    </tr>\n",
              "    <tr>\n",
              "      <th>revenue</th>\n",
              "      <td>0</td>\n",
              "    </tr>\n",
              "    <tr>\n",
              "      <th>director</th>\n",
              "      <td>0</td>\n",
              "    </tr>\n",
              "    <tr>\n",
              "      <th>popularity</th>\n",
              "      <td>0</td>\n",
              "    </tr>\n",
              "    <tr>\n",
              "      <th>vote_average</th>\n",
              "      <td>0</td>\n",
              "    </tr>\n",
              "    <tr>\n",
              "      <th>vote_count</th>\n",
              "      <td>0</td>\n",
              "    </tr>\n",
              "  </tbody>\n",
              "</table>\n",
              "</div><br><label><b>dtype:</b> int64</label>"
            ]
          },
          "metadata": {},
          "execution_count": 112
        }
      ]
    },
    {
      "cell_type": "code",
      "source": [
        "duplicated = df.duplicated().sum()\n",
        "print(duplicated)"
      ],
      "metadata": {
        "id": "6JLjqfGdxNaw",
        "colab": {
          "base_uri": "https://localhost:8080/"
        },
        "outputId": "88c31b93-2d03-4647-c2a6-8750692567d6"
      },
      "execution_count": 113,
      "outputs": [
        {
          "output_type": "stream",
          "name": "stdout",
          "text": [
            "0\n"
          ]
        }
      ]
    },
    {
      "cell_type": "code",
      "source": [
        "df = df.drop_duplicates()\n",
        "df.shape"
      ],
      "metadata": {
        "id": "9VuCwSYAxhKC",
        "colab": {
          "base_uri": "https://localhost:8080/"
        },
        "outputId": "d5a1fe9a-3513-46bd-9863-0a849bb2dae1"
      },
      "execution_count": 114,
      "outputs": [
        {
          "output_type": "execute_result",
          "data": {
            "text/plain": [
              "(5944, 7)"
            ]
          },
          "metadata": {},
          "execution_count": 114
        }
      ]
    },
    {
      "cell_type": "markdown",
      "source": [
        "## Разбираемся с выбросами"
      ],
      "metadata": {
        "id": "Tz4BEcVtyjeW"
      }
    },
    {
      "cell_type": "code",
      "source": [
        "df.describe()"
      ],
      "metadata": {
        "id": "hZv7KiFZysCi",
        "colab": {
          "base_uri": "https://localhost:8080/",
          "height": 297
        },
        "outputId": "128cf34a-e4ac-4981-8a48-a23f51677a2a"
      },
      "execution_count": 115,
      "outputs": [
        {
          "output_type": "execute_result",
          "data": {
            "text/plain": [
              "             budget       revenue   popularity  vote_average    vote_count\n",
              "count  5.944000e+03  5.944000e+03  5944.000000   5944.000000   5944.000000\n",
              "mean   2.747258e+07  9.207675e+07    56.902595      6.402386   2423.200538\n",
              "std    4.791597e+07  1.968138e+08   170.511905      1.492520   3896.977977\n",
              "min    0.000000e+00  0.000000e+00    19.245000      0.000000      0.000000\n",
              "25%    0.000000e+00  0.000000e+00    23.408250      6.000000    101.000000\n",
              "50%    4.500000e+06  1.020000e+07    30.710500      6.631000    900.000000\n",
              "75%    3.500000e+07  9.851011e+07    48.901500      7.228250   3035.250000\n",
              "max    4.600000e+08  2.923706e+09  6883.159000     10.000000  36482.000000"
            ],
            "text/html": [
              "\n",
              "  <div id=\"df-b4a53dab-9ef2-4226-954d-23cffbd82ccc\" class=\"colab-df-container\">\n",
              "    <div>\n",
              "<style scoped>\n",
              "    .dataframe tbody tr th:only-of-type {\n",
              "        vertical-align: middle;\n",
              "    }\n",
              "\n",
              "    .dataframe tbody tr th {\n",
              "        vertical-align: top;\n",
              "    }\n",
              "\n",
              "    .dataframe thead th {\n",
              "        text-align: right;\n",
              "    }\n",
              "</style>\n",
              "<table border=\"1\" class=\"dataframe\">\n",
              "  <thead>\n",
              "    <tr style=\"text-align: right;\">\n",
              "      <th></th>\n",
              "      <th>budget</th>\n",
              "      <th>revenue</th>\n",
              "      <th>popularity</th>\n",
              "      <th>vote_average</th>\n",
              "      <th>vote_count</th>\n",
              "    </tr>\n",
              "  </thead>\n",
              "  <tbody>\n",
              "    <tr>\n",
              "      <th>count</th>\n",
              "      <td>5.944000e+03</td>\n",
              "      <td>5.944000e+03</td>\n",
              "      <td>5944.000000</td>\n",
              "      <td>5944.000000</td>\n",
              "      <td>5944.000000</td>\n",
              "    </tr>\n",
              "    <tr>\n",
              "      <th>mean</th>\n",
              "      <td>2.747258e+07</td>\n",
              "      <td>9.207675e+07</td>\n",
              "      <td>56.902595</td>\n",
              "      <td>6.402386</td>\n",
              "      <td>2423.200538</td>\n",
              "    </tr>\n",
              "    <tr>\n",
              "      <th>std</th>\n",
              "      <td>4.791597e+07</td>\n",
              "      <td>1.968138e+08</td>\n",
              "      <td>170.511905</td>\n",
              "      <td>1.492520</td>\n",
              "      <td>3896.977977</td>\n",
              "    </tr>\n",
              "    <tr>\n",
              "      <th>min</th>\n",
              "      <td>0.000000e+00</td>\n",
              "      <td>0.000000e+00</td>\n",
              "      <td>19.245000</td>\n",
              "      <td>0.000000</td>\n",
              "      <td>0.000000</td>\n",
              "    </tr>\n",
              "    <tr>\n",
              "      <th>25%</th>\n",
              "      <td>0.000000e+00</td>\n",
              "      <td>0.000000e+00</td>\n",
              "      <td>23.408250</td>\n",
              "      <td>6.000000</td>\n",
              "      <td>101.000000</td>\n",
              "    </tr>\n",
              "    <tr>\n",
              "      <th>50%</th>\n",
              "      <td>4.500000e+06</td>\n",
              "      <td>1.020000e+07</td>\n",
              "      <td>30.710500</td>\n",
              "      <td>6.631000</td>\n",
              "      <td>900.000000</td>\n",
              "    </tr>\n",
              "    <tr>\n",
              "      <th>75%</th>\n",
              "      <td>3.500000e+07</td>\n",
              "      <td>9.851011e+07</td>\n",
              "      <td>48.901500</td>\n",
              "      <td>7.228250</td>\n",
              "      <td>3035.250000</td>\n",
              "    </tr>\n",
              "    <tr>\n",
              "      <th>max</th>\n",
              "      <td>4.600000e+08</td>\n",
              "      <td>2.923706e+09</td>\n",
              "      <td>6883.159000</td>\n",
              "      <td>10.000000</td>\n",
              "      <td>36482.000000</td>\n",
              "    </tr>\n",
              "  </tbody>\n",
              "</table>\n",
              "</div>\n",
              "    <div class=\"colab-df-buttons\">\n",
              "\n",
              "  <div class=\"colab-df-container\">\n",
              "    <button class=\"colab-df-convert\" onclick=\"convertToInteractive('df-b4a53dab-9ef2-4226-954d-23cffbd82ccc')\"\n",
              "            title=\"Convert this dataframe to an interactive table.\"\n",
              "            style=\"display:none;\">\n",
              "\n",
              "  <svg xmlns=\"http://www.w3.org/2000/svg\" height=\"24px\" viewBox=\"0 -960 960 960\">\n",
              "    <path d=\"M120-120v-720h720v720H120Zm60-500h600v-160H180v160Zm220 220h160v-160H400v160Zm0 220h160v-160H400v160ZM180-400h160v-160H180v160Zm440 0h160v-160H620v160ZM180-180h160v-160H180v160Zm440 0h160v-160H620v160Z\"/>\n",
              "  </svg>\n",
              "    </button>\n",
              "\n",
              "  <style>\n",
              "    .colab-df-container {\n",
              "      display:flex;\n",
              "      gap: 12px;\n",
              "    }\n",
              "\n",
              "    .colab-df-convert {\n",
              "      background-color: #E8F0FE;\n",
              "      border: none;\n",
              "      border-radius: 50%;\n",
              "      cursor: pointer;\n",
              "      display: none;\n",
              "      fill: #1967D2;\n",
              "      height: 32px;\n",
              "      padding: 0 0 0 0;\n",
              "      width: 32px;\n",
              "    }\n",
              "\n",
              "    .colab-df-convert:hover {\n",
              "      background-color: #E2EBFA;\n",
              "      box-shadow: 0px 1px 2px rgba(60, 64, 67, 0.3), 0px 1px 3px 1px rgba(60, 64, 67, 0.15);\n",
              "      fill: #174EA6;\n",
              "    }\n",
              "\n",
              "    .colab-df-buttons div {\n",
              "      margin-bottom: 4px;\n",
              "    }\n",
              "\n",
              "    [theme=dark] .colab-df-convert {\n",
              "      background-color: #3B4455;\n",
              "      fill: #D2E3FC;\n",
              "    }\n",
              "\n",
              "    [theme=dark] .colab-df-convert:hover {\n",
              "      background-color: #434B5C;\n",
              "      box-shadow: 0px 1px 3px 1px rgba(0, 0, 0, 0.15);\n",
              "      filter: drop-shadow(0px 1px 2px rgba(0, 0, 0, 0.3));\n",
              "      fill: #FFFFFF;\n",
              "    }\n",
              "  </style>\n",
              "\n",
              "    <script>\n",
              "      const buttonEl =\n",
              "        document.querySelector('#df-b4a53dab-9ef2-4226-954d-23cffbd82ccc button.colab-df-convert');\n",
              "      buttonEl.style.display =\n",
              "        google.colab.kernel.accessAllowed ? 'block' : 'none';\n",
              "\n",
              "      async function convertToInteractive(key) {\n",
              "        const element = document.querySelector('#df-b4a53dab-9ef2-4226-954d-23cffbd82ccc');\n",
              "        const dataTable =\n",
              "          await google.colab.kernel.invokeFunction('convertToInteractive',\n",
              "                                                    [key], {});\n",
              "        if (!dataTable) return;\n",
              "\n",
              "        const docLinkHtml = 'Like what you see? Visit the ' +\n",
              "          '<a target=\"_blank\" href=https://colab.research.google.com/notebooks/data_table.ipynb>data table notebook</a>'\n",
              "          + ' to learn more about interactive tables.';\n",
              "        element.innerHTML = '';\n",
              "        dataTable['output_type'] = 'display_data';\n",
              "        await google.colab.output.renderOutput(dataTable, element);\n",
              "        const docLink = document.createElement('div');\n",
              "        docLink.innerHTML = docLinkHtml;\n",
              "        element.appendChild(docLink);\n",
              "      }\n",
              "    </script>\n",
              "  </div>\n",
              "\n",
              "\n",
              "<div id=\"df-9db2f7fb-00fb-4f8e-80e6-1e1c5403b6aa\">\n",
              "  <button class=\"colab-df-quickchart\" onclick=\"quickchart('df-9db2f7fb-00fb-4f8e-80e6-1e1c5403b6aa')\"\n",
              "            title=\"Suggest charts\"\n",
              "            style=\"display:none;\">\n",
              "\n",
              "<svg xmlns=\"http://www.w3.org/2000/svg\" height=\"24px\"viewBox=\"0 0 24 24\"\n",
              "     width=\"24px\">\n",
              "    <g>\n",
              "        <path d=\"M19 3H5c-1.1 0-2 .9-2 2v14c0 1.1.9 2 2 2h14c1.1 0 2-.9 2-2V5c0-1.1-.9-2-2-2zM9 17H7v-7h2v7zm4 0h-2V7h2v10zm4 0h-2v-4h2v4z\"/>\n",
              "    </g>\n",
              "</svg>\n",
              "  </button>\n",
              "\n",
              "<style>\n",
              "  .colab-df-quickchart {\n",
              "      --bg-color: #E8F0FE;\n",
              "      --fill-color: #1967D2;\n",
              "      --hover-bg-color: #E2EBFA;\n",
              "      --hover-fill-color: #174EA6;\n",
              "      --disabled-fill-color: #AAA;\n",
              "      --disabled-bg-color: #DDD;\n",
              "  }\n",
              "\n",
              "  [theme=dark] .colab-df-quickchart {\n",
              "      --bg-color: #3B4455;\n",
              "      --fill-color: #D2E3FC;\n",
              "      --hover-bg-color: #434B5C;\n",
              "      --hover-fill-color: #FFFFFF;\n",
              "      --disabled-bg-color: #3B4455;\n",
              "      --disabled-fill-color: #666;\n",
              "  }\n",
              "\n",
              "  .colab-df-quickchart {\n",
              "    background-color: var(--bg-color);\n",
              "    border: none;\n",
              "    border-radius: 50%;\n",
              "    cursor: pointer;\n",
              "    display: none;\n",
              "    fill: var(--fill-color);\n",
              "    height: 32px;\n",
              "    padding: 0;\n",
              "    width: 32px;\n",
              "  }\n",
              "\n",
              "  .colab-df-quickchart:hover {\n",
              "    background-color: var(--hover-bg-color);\n",
              "    box-shadow: 0 1px 2px rgba(60, 64, 67, 0.3), 0 1px 3px 1px rgba(60, 64, 67, 0.15);\n",
              "    fill: var(--button-hover-fill-color);\n",
              "  }\n",
              "\n",
              "  .colab-df-quickchart-complete:disabled,\n",
              "  .colab-df-quickchart-complete:disabled:hover {\n",
              "    background-color: var(--disabled-bg-color);\n",
              "    fill: var(--disabled-fill-color);\n",
              "    box-shadow: none;\n",
              "  }\n",
              "\n",
              "  .colab-df-spinner {\n",
              "    border: 2px solid var(--fill-color);\n",
              "    border-color: transparent;\n",
              "    border-bottom-color: var(--fill-color);\n",
              "    animation:\n",
              "      spin 1s steps(1) infinite;\n",
              "  }\n",
              "\n",
              "  @keyframes spin {\n",
              "    0% {\n",
              "      border-color: transparent;\n",
              "      border-bottom-color: var(--fill-color);\n",
              "      border-left-color: var(--fill-color);\n",
              "    }\n",
              "    20% {\n",
              "      border-color: transparent;\n",
              "      border-left-color: var(--fill-color);\n",
              "      border-top-color: var(--fill-color);\n",
              "    }\n",
              "    30% {\n",
              "      border-color: transparent;\n",
              "      border-left-color: var(--fill-color);\n",
              "      border-top-color: var(--fill-color);\n",
              "      border-right-color: var(--fill-color);\n",
              "    }\n",
              "    40% {\n",
              "      border-color: transparent;\n",
              "      border-right-color: var(--fill-color);\n",
              "      border-top-color: var(--fill-color);\n",
              "    }\n",
              "    60% {\n",
              "      border-color: transparent;\n",
              "      border-right-color: var(--fill-color);\n",
              "    }\n",
              "    80% {\n",
              "      border-color: transparent;\n",
              "      border-right-color: var(--fill-color);\n",
              "      border-bottom-color: var(--fill-color);\n",
              "    }\n",
              "    90% {\n",
              "      border-color: transparent;\n",
              "      border-bottom-color: var(--fill-color);\n",
              "    }\n",
              "  }\n",
              "</style>\n",
              "\n",
              "  <script>\n",
              "    async function quickchart(key) {\n",
              "      const quickchartButtonEl =\n",
              "        document.querySelector('#' + key + ' button');\n",
              "      quickchartButtonEl.disabled = true;  // To prevent multiple clicks.\n",
              "      quickchartButtonEl.classList.add('colab-df-spinner');\n",
              "      try {\n",
              "        const charts = await google.colab.kernel.invokeFunction(\n",
              "            'suggestCharts', [key], {});\n",
              "      } catch (error) {\n",
              "        console.error('Error during call to suggestCharts:', error);\n",
              "      }\n",
              "      quickchartButtonEl.classList.remove('colab-df-spinner');\n",
              "      quickchartButtonEl.classList.add('colab-df-quickchart-complete');\n",
              "    }\n",
              "    (() => {\n",
              "      let quickchartButtonEl =\n",
              "        document.querySelector('#df-9db2f7fb-00fb-4f8e-80e6-1e1c5403b6aa button');\n",
              "      quickchartButtonEl.style.display =\n",
              "        google.colab.kernel.accessAllowed ? 'block' : 'none';\n",
              "    })();\n",
              "  </script>\n",
              "</div>\n",
              "\n",
              "    </div>\n",
              "  </div>\n"
            ],
            "application/vnd.google.colaboratory.intrinsic+json": {
              "type": "dataframe",
              "summary": "{\n  \"name\": \"df\",\n  \"rows\": 8,\n  \"fields\": [\n    {\n      \"column\": \"budget\",\n      \"properties\": {\n        \"dtype\": \"number\",\n        \"std\": 157925377.02666086,\n        \"min\": 0.0,\n        \"max\": 460000000.0,\n        \"num_unique_values\": 7,\n        \"samples\": [\n          5944.0,\n          27472577.542900402,\n          35000000.0\n        ],\n        \"semantic_type\": \"\",\n        \"description\": \"\"\n      }\n    },\n    {\n      \"column\": \"revenue\",\n      \"properties\": {\n        \"dtype\": \"number\",\n        \"std\": 1016027931.6161939,\n        \"min\": 0.0,\n        \"max\": 2923706026.0,\n        \"num_unique_values\": 7,\n        \"samples\": [\n          5944.0,\n          92076750.17446165,\n          98510110.0\n        ],\n        \"semantic_type\": \"\",\n        \"description\": \"\"\n      }\n    },\n    {\n      \"column\": \"popularity\",\n      \"properties\": {\n        \"dtype\": \"number\",\n        \"std\": 2953.0116325162053,\n        \"min\": 19.245,\n        \"max\": 6883.159,\n        \"num_unique_values\": 8,\n        \"samples\": [\n          56.90259488559893,\n          30.7105,\n          5944.0\n        ],\n        \"semantic_type\": \"\",\n        \"description\": \"\"\n      }\n    },\n    {\n      \"column\": \"vote_average\",\n      \"properties\": {\n        \"dtype\": \"number\",\n        \"std\": 2099.6169238325147,\n        \"min\": 0.0,\n        \"max\": 5944.0,\n        \"num_unique_values\": 8,\n        \"samples\": [\n          6.402386440107672,\n          6.631,\n          5944.0\n        ],\n        \"semantic_type\": \"\",\n        \"description\": \"\"\n      }\n    },\n    {\n      \"column\": \"vote_count\",\n      \"properties\": {\n        \"dtype\": \"number\",\n        \"std\": 12242.260801748575,\n        \"min\": 0.0,\n        \"max\": 36482.0,\n        \"num_unique_values\": 8,\n        \"samples\": [\n          2423.200538358008,\n          900.0,\n          5944.0\n        ],\n        \"semantic_type\": \"\",\n        \"description\": \"\"\n      }\n    }\n  ]\n}"
            }
          },
          "metadata": {},
          "execution_count": 115
        }
      ]
    },
    {
      "cell_type": "code",
      "source": [
        "df.eq(0).sum()"
      ],
      "metadata": {
        "id": "wnkgnkpH18zu",
        "colab": {
          "base_uri": "https://localhost:8080/",
          "height": 300
        },
        "outputId": "95d0de0d-cb4b-4a0d-9935-0beb6343c491"
      },
      "execution_count": 116,
      "outputs": [
        {
          "output_type": "execute_result",
          "data": {
            "text/plain": [
              "genres             0\n",
              "budget          2475\n",
              "revenue         2282\n",
              "director           0\n",
              "popularity         0\n",
              "vote_average     186\n",
              "vote_count       186\n",
              "dtype: int64"
            ],
            "text/html": [
              "<div>\n",
              "<style scoped>\n",
              "    .dataframe tbody tr th:only-of-type {\n",
              "        vertical-align: middle;\n",
              "    }\n",
              "\n",
              "    .dataframe tbody tr th {\n",
              "        vertical-align: top;\n",
              "    }\n",
              "\n",
              "    .dataframe thead th {\n",
              "        text-align: right;\n",
              "    }\n",
              "</style>\n",
              "<table border=\"1\" class=\"dataframe\">\n",
              "  <thead>\n",
              "    <tr style=\"text-align: right;\">\n",
              "      <th></th>\n",
              "      <th>0</th>\n",
              "    </tr>\n",
              "  </thead>\n",
              "  <tbody>\n",
              "    <tr>\n",
              "      <th>genres</th>\n",
              "      <td>0</td>\n",
              "    </tr>\n",
              "    <tr>\n",
              "      <th>budget</th>\n",
              "      <td>2475</td>\n",
              "    </tr>\n",
              "    <tr>\n",
              "      <th>revenue</th>\n",
              "      <td>2282</td>\n",
              "    </tr>\n",
              "    <tr>\n",
              "      <th>director</th>\n",
              "      <td>0</td>\n",
              "    </tr>\n",
              "    <tr>\n",
              "      <th>popularity</th>\n",
              "      <td>0</td>\n",
              "    </tr>\n",
              "    <tr>\n",
              "      <th>vote_average</th>\n",
              "      <td>186</td>\n",
              "    </tr>\n",
              "    <tr>\n",
              "      <th>vote_count</th>\n",
              "      <td>186</td>\n",
              "    </tr>\n",
              "  </tbody>\n",
              "</table>\n",
              "</div><br><label><b>dtype:</b> int64</label>"
            ]
          },
          "metadata": {},
          "execution_count": 116
        }
      ]
    },
    {
      "cell_type": "code",
      "source": [
        "columns_to_check = ['budget', 'revenue', 'vote_average', 'vote_count']\n",
        "df = df[~(df[columns_to_check] == 0).any(axis=1)]\n",
        "df.shape"
      ],
      "metadata": {
        "id": "Iw-vYuR8zRJV",
        "colab": {
          "base_uri": "https://localhost:8080/"
        },
        "outputId": "a95e4cc7-adad-438c-e9e9-9713332415d3"
      },
      "execution_count": 117,
      "outputs": [
        {
          "output_type": "execute_result",
          "data": {
            "text/plain": [
              "(3204, 7)"
            ]
          },
          "metadata": {},
          "execution_count": 117
        }
      ]
    },
    {
      "cell_type": "code",
      "source": [
        "df.eq(0).sum()"
      ],
      "metadata": {
        "colab": {
          "base_uri": "https://localhost:8080/",
          "height": 300
        },
        "id": "MXlhAx7c5mIg",
        "outputId": "0d3320bf-955d-43bc-ecd0-8b7887461904"
      },
      "execution_count": 118,
      "outputs": [
        {
          "output_type": "execute_result",
          "data": {
            "text/plain": [
              "genres          0\n",
              "budget          0\n",
              "revenue         0\n",
              "director        0\n",
              "popularity      0\n",
              "vote_average    0\n",
              "vote_count      0\n",
              "dtype: int64"
            ],
            "text/html": [
              "<div>\n",
              "<style scoped>\n",
              "    .dataframe tbody tr th:only-of-type {\n",
              "        vertical-align: middle;\n",
              "    }\n",
              "\n",
              "    .dataframe tbody tr th {\n",
              "        vertical-align: top;\n",
              "    }\n",
              "\n",
              "    .dataframe thead th {\n",
              "        text-align: right;\n",
              "    }\n",
              "</style>\n",
              "<table border=\"1\" class=\"dataframe\">\n",
              "  <thead>\n",
              "    <tr style=\"text-align: right;\">\n",
              "      <th></th>\n",
              "      <th>0</th>\n",
              "    </tr>\n",
              "  </thead>\n",
              "  <tbody>\n",
              "    <tr>\n",
              "      <th>genres</th>\n",
              "      <td>0</td>\n",
              "    </tr>\n",
              "    <tr>\n",
              "      <th>budget</th>\n",
              "      <td>0</td>\n",
              "    </tr>\n",
              "    <tr>\n",
              "      <th>revenue</th>\n",
              "      <td>0</td>\n",
              "    </tr>\n",
              "    <tr>\n",
              "      <th>director</th>\n",
              "      <td>0</td>\n",
              "    </tr>\n",
              "    <tr>\n",
              "      <th>popularity</th>\n",
              "      <td>0</td>\n",
              "    </tr>\n",
              "    <tr>\n",
              "      <th>vote_average</th>\n",
              "      <td>0</td>\n",
              "    </tr>\n",
              "    <tr>\n",
              "      <th>vote_count</th>\n",
              "      <td>0</td>\n",
              "    </tr>\n",
              "  </tbody>\n",
              "</table>\n",
              "</div><br><label><b>dtype:</b> int64</label>"
            ]
          },
          "metadata": {},
          "execution_count": 118
        }
      ]
    },
    {
      "cell_type": "markdown",
      "source": [
        "## Меняем категориальные переменные на числовые"
      ],
      "metadata": {
        "id": "7DFFwMol39kF"
      }
    },
    {
      "cell_type": "code",
      "source": [
        "df = df.drop(['director', 'genres'], axis=1)\n",
        "df.shape"
      ],
      "metadata": {
        "id": "knBZ6ouE2T9b",
        "colab": {
          "base_uri": "https://localhost:8080/"
        },
        "outputId": "bbbc83ae-884b-4a8e-de62-5597b3cdc11e"
      },
      "execution_count": 119,
      "outputs": [
        {
          "output_type": "execute_result",
          "data": {
            "text/plain": [
              "(3204, 5)"
            ]
          },
          "metadata": {},
          "execution_count": 119
        }
      ]
    },
    {
      "cell_type": "markdown",
      "source": [
        "# Анализ датасета"
      ],
      "metadata": {
        "id": "Eprhb-9oBd3g"
      }
    },
    {
      "cell_type": "markdown",
      "source": [
        "## Бюджет"
      ],
      "metadata": {
        "id": "fqS47J2wuh1h"
      }
    },
    {
      "cell_type": "code",
      "source": [
        "plt.figure(figsize=(10,7))\n",
        "plt.hist(df['budget'], bins=50)"
      ],
      "metadata": {
        "id": "cU4aP3FAvmRq",
        "colab": {
          "base_uri": "https://localhost:8080/",
          "height": 1000
        },
        "outputId": "842ae6e6-adac-4567-e837-5b2e7ba4f715"
      },
      "execution_count": 120,
      "outputs": [
        {
          "output_type": "execute_result",
          "data": {
            "text/plain": [
              "(array([662., 511., 374., 303., 232., 167., 114., 113., 123.,  84.,  84.,\n",
              "         52.,  13.,  49.,  38.,  28.,  58.,  25.,  14.,  38.,  14.,  57.,\n",
              "          5.,   5.,   5.,   1.,   2.,  16.,   3.,   1.,   0.,   1.,   5.,\n",
              "          0.,   0.,   0.,   1.,   0.,   1.,   1.,   0.,   1.,   1.,   0.,\n",
              "          0.,   1.,   0.,   0.,   0.,   1.]),\n",
              " array([5.00000000e+00, 9.20000490e+06, 1.84000048e+07, 2.76000047e+07,\n",
              "        3.68000046e+07, 4.60000045e+07, 5.52000044e+07, 6.44000043e+07,\n",
              "        7.36000042e+07, 8.28000041e+07, 9.20000040e+07, 1.01200004e+08,\n",
              "        1.10400004e+08, 1.19600004e+08, 1.28800004e+08, 1.38000004e+08,\n",
              "        1.47200003e+08, 1.56400003e+08, 1.65600003e+08, 1.74800003e+08,\n",
              "        1.84000003e+08, 1.93200003e+08, 2.02400003e+08, 2.11600003e+08,\n",
              "        2.20800003e+08, 2.30000002e+08, 2.39200002e+08, 2.48400002e+08,\n",
              "        2.57600002e+08, 2.66800002e+08, 2.76000002e+08, 2.85200002e+08,\n",
              "        2.94400002e+08, 3.03600002e+08, 3.12800002e+08, 3.22000002e+08,\n",
              "        3.31200001e+08, 3.40400001e+08, 3.49600001e+08, 3.58800001e+08,\n",
              "        3.68000001e+08, 3.77200001e+08, 3.86400001e+08, 3.95600001e+08,\n",
              "        4.04800001e+08, 4.14000000e+08, 4.23200000e+08, 4.32400000e+08,\n",
              "        4.41600000e+08, 4.50800000e+08, 4.60000000e+08]),\n",
              " <BarContainer object of 50 artists>)"
            ]
          },
          "metadata": {},
          "execution_count": 120
        },
        {
          "output_type": "display_data",
          "data": {
            "text/plain": [
              "<Figure size 1000x700 with 1 Axes>"
            ],
            "image/png": "[encoded data removed]"
          },
          "metadata": {}
        }
      ]
    },
    {
      "cell_type": "markdown",
      "source": [
        "## Сборы"
      ],
      "metadata": {
        "id": "6iUCwfDzulsM"
      }
    },
    {
      "cell_type": "code",
      "source": [
        "plt.figure(figsize=(10,7))\n",
        "plt.hist(df['revenue'], bins=50)"
      ],
      "metadata": {
        "id": "joDYdh53v0Nv",
        "colab": {
          "base_uri": "https://localhost:8080/",
          "height": 1000
        },
        "outputId": "91f9ea03-7343-441b-a213-d663bce87450"
      },
      "execution_count": 121,
      "outputs": [
        {
          "output_type": "execute_result",
          "data": {
            "text/plain": [
              "(array([1.306e+03, 5.760e+02, 3.910e+02, 2.460e+02, 1.460e+02, 1.170e+02,\n",
              "        1.010e+02, 5.600e+01, 4.500e+01, 3.400e+01, 2.800e+01, 1.900e+01,\n",
              "        2.400e+01, 2.100e+01, 1.600e+01, 1.200e+01, 1.300e+01, 9.000e+00,\n",
              "        1.000e+01, 7.000e+00, 1.000e+00, 4.000e+00, 4.000e+00, 2.000e+00,\n",
              "        3.000e+00, 3.000e+00, 0.000e+00, 0.000e+00, 3.000e+00, 0.000e+00,\n",
              "        0.000e+00, 0.000e+00, 1.000e+00, 0.000e+00, 0.000e+00, 2.000e+00,\n",
              "        0.000e+00, 0.000e+00, 1.000e+00, 1.000e+00, 0.000e+00, 0.000e+00,\n",
              "        0.000e+00, 0.000e+00, 0.000e+00, 0.000e+00, 0.000e+00, 1.000e+00,\n",
              "        0.000e+00, 1.000e+00]),\n",
              " array([1.00000000e+00, 5.84741215e+07, 1.16948242e+08, 1.75422362e+08,\n",
              "        2.33896483e+08, 2.92370604e+08, 3.50844724e+08, 4.09318844e+08,\n",
              "        4.67792965e+08, 5.26267086e+08, 5.84741206e+08, 6.43215326e+08,\n",
              "        7.01689447e+08, 7.60163568e+08, 8.18637688e+08, 8.77111808e+08,\n",
              "        9.35585929e+08, 9.94060050e+08, 1.05253417e+09, 1.11100829e+09,\n",
              "        1.16948241e+09, 1.22795653e+09, 1.28643065e+09, 1.34490477e+09,\n",
              "        1.40337889e+09, 1.46185301e+09, 1.52032713e+09, 1.57880125e+09,\n",
              "        1.63727538e+09, 1.69574950e+09, 1.75422362e+09, 1.81269774e+09,\n",
              "        1.87117186e+09, 1.92964598e+09, 1.98812010e+09, 2.04659422e+09,\n",
              "        2.10506834e+09, 2.16354246e+09, 2.22201658e+09, 2.28049070e+09,\n",
              "        2.33896482e+09, 2.39743894e+09, 2.45591306e+09, 2.51438718e+09,\n",
              "        2.57286130e+09, 2.63133542e+09, 2.68980954e+09, 2.74828366e+09,\n",
              "        2.80675778e+09, 2.86523191e+09, 2.92370603e+09]),\n",
              " <BarContainer object of 50 artists>)"
            ]
          },
          "metadata": {},
          "execution_count": 121
        },
        {
          "output_type": "display_data",
          "data": {
            "text/plain": [
              "<Figure size 1000x700 with 1 Axes>"
            ],
            "image/png": "[encoded data removed]"
          },
          "metadata": {}
        }
      ]
    },
    {
      "cell_type": "markdown",
      "source": [
        "## Популярность"
      ],
      "metadata": {
        "id": "VGvitnPJutd_"
      }
    },
    {
      "cell_type": "code",
      "source": [
        "plt.figure(figsize=(10,7))\n",
        "plt.hist(df['popularity'], bins=25)"
      ],
      "metadata": {
        "id": "qBAGgbgPv3dv",
        "colab": {
          "base_uri": "https://localhost:8080/",
          "height": 1000
        },
        "outputId": "c210e170-23eb-4f2a-9536-f1845bb9f50b"
      },
      "execution_count": 122,
      "outputs": [
        {
          "output_type": "execute_result",
          "data": {
            "text/plain": [
              "(array([3.155e+03, 2.600e+01, 5.000e+00, 3.000e+00, 3.000e+00, 1.000e+00,\n",
              "        3.000e+00, 2.000e+00, 0.000e+00, 2.000e+00, 1.000e+00, 0.000e+00,\n",
              "        0.000e+00, 0.000e+00, 0.000e+00, 1.000e+00, 0.000e+00, 0.000e+00,\n",
              "        0.000e+00, 0.000e+00, 1.000e+00, 0.000e+00, 0.000e+00, 0.000e+00,\n",
              "        1.000e+00]),\n",
              " array([  19.247  ,  293.80348,  568.35996,  842.91644, 1117.47292,\n",
              "        1392.0294 , 1666.58588, 1941.14236, 2215.69884, 2490.25532,\n",
              "        2764.8118 , 3039.36828, 3313.92476, 3588.48124, 3863.03772,\n",
              "        4137.5942 , 4412.15068, 4686.70716, 4961.26364, 5235.82012,\n",
              "        5510.3766 , 5784.93308, 6059.48956, 6334.04604, 6608.60252,\n",
              "        6883.159  ]),\n",
              " <BarContainer object of 25 artists>)"
            ]
          },
          "metadata": {},
          "execution_count": 122
        },
        {
          "output_type": "display_data",
          "data": {
            "text/plain": [
              "<Figure size 1000x700 with 1 Axes>"
            ],
            "image/png": "[encoded data removed]"
          },
          "metadata": {}
        }
      ]
    },
    {
      "cell_type": "markdown",
      "source": [
        "## Оценка в среднем"
      ],
      "metadata": {
        "id": "KASmAnOeDjH-"
      }
    },
    {
      "cell_type": "code",
      "source": [
        "stats.probplot(df['vote_average'], dist=\"norm\", plot=plt)"
      ],
      "metadata": {
        "id": "eUxijizNDnNS",
        "colab": {
          "base_uri": "https://localhost:8080/",
          "height": 445
        },
        "outputId": "6735c92a-c26c-4fe4-9873-4f205a2cdbf9"
      },
      "execution_count": 123,
      "outputs": [
        {
          "output_type": "execute_result",
          "data": {
            "text/plain": [
              "((array([-3.51933543, -3.27674004, -3.14264657, ...,  3.14264657,\n",
              "          3.27674004,  3.51933543]),\n",
              "  array([3.852, 4.   , 4.2  , ..., 8.6  , 8.691, 8.707])),\n",
              " (0.7648622674520208, 6.778006554307116, 0.9975476409961298))"
            ]
          },
          "metadata": {},
          "execution_count": 123
        },
        {
          "output_type": "display_data",
          "data": {
            "text/plain": [
              "<Figure size 640x480 with 1 Axes>"
            ],
            "image/png": "[encoded data removed]"
          },
          "metadata": {}
        }
      ]
    },
    {
      "cell_type": "code",
      "source": [
        "plt.figure(figsize=(10,7))\n",
        "plt.hist(df['vote_average'], bins=50)"
      ],
      "metadata": {
        "id": "GJiQZ-GxBkzU",
        "colab": {
          "base_uri": "https://localhost:8080/",
          "height": 1000
        },
        "outputId": "372d23e8-e33a-41f5-dbd0-4898b559396c"
      },
      "execution_count": 124,
      "outputs": [
        {
          "output_type": "execute_result",
          "data": {
            "text/plain": [
              "(array([  1.,   1.,   0.,   2.,   1.,   6.,   3.,   9.,   2.,   7.,   9.,\n",
              "         11.,  12.,  18.,  28.,  31.,  40.,  18.,  46.,  53.,  65.,  90.,\n",
              "         89., 124., 135., 136., 144., 169., 149., 155., 162., 149., 135.,\n",
              "        140., 141., 158., 131., 119., 103.,  71.,  77.,  62.,  53.,  44.,\n",
              "         41.,  22.,  17.,  16.,   7.,   2.]),\n",
              " array([3.852 , 3.9491, 4.0462, 4.1433, 4.2404, 4.3375, 4.4346, 4.5317,\n",
              "        4.6288, 4.7259, 4.823 , 4.9201, 5.0172, 5.1143, 5.2114, 5.3085,\n",
              "        5.4056, 5.5027, 5.5998, 5.6969, 5.794 , 5.8911, 5.9882, 6.0853,\n",
              "        6.1824, 6.2795, 6.3766, 6.4737, 6.5708, 6.6679, 6.765 , 6.8621,\n",
              "        6.9592, 7.0563, 7.1534, 7.2505, 7.3476, 7.4447, 7.5418, 7.6389,\n",
              "        7.736 , 7.8331, 7.9302, 8.0273, 8.1244, 8.2215, 8.3186, 8.4157,\n",
              "        8.5128, 8.6099, 8.707 ]),\n",
              " <BarContainer object of 50 artists>)"
            ]
          },
          "metadata": {},
          "execution_count": 124
        },
        {
          "output_type": "display_data",
          "data": {
            "text/plain": [
              "<Figure size 1000x700 with 1 Axes>"
            ],
            "image/png": "[encoded data removed]"
          },
          "metadata": {}
        }
      ]
    },
    {
      "cell_type": "markdown",
      "source": [
        "## Количество оценок"
      ],
      "metadata": {
        "id": "Ueh2OI_WuvOZ"
      }
    },
    {
      "cell_type": "code",
      "source": [
        "plt.figure(figsize=(10,7))\n",
        "plt.hist(df['vote_count'], bins=50)"
      ],
      "metadata": {
        "id": "iW_3NdrKv6O1",
        "colab": {
          "base_uri": "https://localhost:8080/",
          "height": 1000
        },
        "outputId": "d02a1fd6-8f44-4e27-9fcb-629a76db3fb8"
      },
      "execution_count": 125,
      "outputs": [
        {
          "output_type": "execute_result",
          "data": {
            "text/plain": [
              "(array([457., 496., 438., 314., 274., 227., 156., 126., 115.,  97.,  69.,\n",
              "         56.,  42.,  40.,  38.,  27.,  33.,  22.,  21.,  14.,  17.,  18.,\n",
              "          9.,  15.,   8.,  10.,  10.,   5.,  11.,   8.,   7.,   1.,   2.,\n",
              "          1.,   3.,   4.,   0.,   3.,   2.,   0.,   2.,   0.,   2.,   1.,\n",
              "          1.,   0.,   0.,   0.,   1.,   1.]),\n",
              " array([5.000000e+00, 7.345400e+02, 1.464080e+03, 2.193620e+03,\n",
              "        2.923160e+03, 3.652700e+03, 4.382240e+03, 5.111780e+03,\n",
              "        5.841320e+03, 6.570860e+03, 7.300400e+03, 8.029940e+03,\n",
              "        8.759480e+03, 9.489020e+03, 1.021856e+04, 1.094810e+04,\n",
              "        1.167764e+04, 1.240718e+04, 1.313672e+04, 1.386626e+04,\n",
              "        1.459580e+04, 1.532534e+04, 1.605488e+04, 1.678442e+04,\n",
              "        1.751396e+04, 1.824350e+04, 1.897304e+04, 1.970258e+04,\n",
              "        2.043212e+04, 2.116166e+04, 2.189120e+04, 2.262074e+04,\n",
              "        2.335028e+04, 2.407982e+04, 2.480936e+04, 2.553890e+04,\n",
              "        2.626844e+04, 2.699798e+04, 2.772752e+04, 2.845706e+04,\n",
              "        2.918660e+04, 2.991614e+04, 3.064568e+04, 3.137522e+04,\n",
              "        3.210476e+04, 3.283430e+04, 3.356384e+04, 3.429338e+04,\n",
              "        3.502292e+04, 3.575246e+04, 3.648200e+04]),\n",
              " <BarContainer object of 50 artists>)"
            ]
          },
          "metadata": {},
          "execution_count": 125
        },
        {
          "output_type": "display_data",
          "data": {
            "text/plain": [
              "<Figure size 1000x700 with 1 Axes>"
            ],
            "image/png": "[encoded data removed]"
          },
          "metadata": {}
        }
      ]
    },
    {
      "cell_type": "markdown",
      "source": [
        "## Вывод"
      ],
      "metadata": {
        "id": "62qdNk1bll2j"
      }
    },
    {
      "cell_type": "markdown",
      "source": [
        "Сборы, бюджет, популярность и количество голосов распределены логарифмически. Прологарифмируем их, чтобы распределение стало ближе к нормальному."
      ],
      "metadata": {
        "id": "4L9h--tNlnSS"
      }
    },
    {
      "cell_type": "code",
      "source": [
        "df[['revenue', 'budget', 'popularity', 'vote_count']] = np.log(df[['revenue', 'budget', 'popularity', 'vote_count']])"
      ],
      "metadata": {
        "id": "CHiw6D-Ulkt1"
      },
      "execution_count": 126,
      "outputs": []
    },
    {
      "cell_type": "markdown",
      "source": [
        "# Baseline модель"
      ],
      "metadata": {
        "id": "PLgpWGz0EA4q"
      }
    },
    {
      "cell_type": "markdown",
      "source": [
        "Сначала используем scaler и PCA."
      ],
      "metadata": {
        "id": "IJCT9aaE3AhM"
      }
    },
    {
      "cell_type": "code",
      "source": [
        "X = df[['vote_average', 'budget', 'popularity', 'vote_count', 'revenue']]\n",
        "\n",
        "scaler = StandardScaler()\n",
        "X_scaled = scaler.fit_transform(X)\n",
        "\n",
        "pca = PCA(n_components = 2, random_state=42)\n",
        "X_transformed = pca.fit_transform(X_scaled)"
      ],
      "metadata": {
        "id": "GT5aJzIu21W9"
      },
      "execution_count": 127,
      "outputs": []
    },
    {
      "cell_type": "markdown",
      "source": [
        "В кажестве baseline решения разобьём данные на случайные группы с произвольным числом кластеров."
      ],
      "metadata": {
        "id": "7uFJI1g12DeT"
      }
    },
    {
      "cell_type": "code",
      "source": [
        "num_clusters = 3\n",
        "random_labels = np.random.randint(0, num_clusters, X_transformed.shape[0])\n",
        "\n",
        "silhouette = silhouette_score(X_transformed, random_labels)\n",
        "db_index = davies_bouldin_score(X_transformed, random_labels)\n",
        "print(\"Silhouette Score:\", silhouette)\n",
        "print(\"Davies-Bouldin Index:\", db_index)"
      ],
      "metadata": {
        "id": "abZ3ALv_ECbW",
        "colab": {
          "base_uri": "https://localhost:8080/"
        },
        "outputId": "d9b9f503-c688-47b4-88e0-d95f1e72c6a6"
      },
      "execution_count": 128,
      "outputs": [
        {
          "output_type": "stream",
          "name": "stdout",
          "text": [
            "Silhouette Score: -0.00835533550031787\n",
            "Davies-Bouldin Index: 37.81152244909472\n"
          ]
        }
      ]
    },
    {
      "cell_type": "markdown",
      "source": [
        "Метрики далеки от идеала..."
      ],
      "metadata": {
        "id": "zINLAWXO3QV4"
      }
    },
    {
      "cell_type": "markdown",
      "source": [
        "# Framework модель"
      ],
      "metadata": {
        "id": "oHBM05t7WfqN"
      }
    },
    {
      "cell_type": "markdown",
      "source": [
        "## Определяем оптимальное число кластеров методом локтя"
      ],
      "metadata": {
        "id": "KqVab087xZpP"
      }
    },
    {
      "cell_type": "code",
      "source": [
        "wcss = []\n",
        "for i in range(1, 11):\n",
        "    kmeans = KMeans(n_clusters=i, init='k-means++', max_iter=300,  random_state=42)\n",
        "    kmeans.fit(X_transformed)\n",
        "    wcss.append(kmeans.inertia_)\n",
        "\n",
        "plt.plot(range(1, 11), wcss)\n",
        "plt.title('Elbow Method')\n",
        "plt.xlabel('Number of clusters')\n",
        "plt.ylabel('WCSS')\n",
        "plt.show()"
      ],
      "metadata": {
        "colab": {
          "base_uri": "https://localhost:8080/",
          "height": 472
        },
        "id": "SQpfaNtYxe3B",
        "outputId": "55209847-dd89-4d8a-b7d8-828fc50c8f23"
      },
      "execution_count": 129,
      "outputs": [
        {
          "output_type": "display_data",
          "data": {
            "text/plain": [
              "<Figure size 640x480 with 1 Axes>"
            ],
            "image/png": "[encoded data removed]"
          },
          "metadata": {}
        }
      ]
    },
    {
      "cell_type": "markdown",
      "source": [
        "## Модель"
      ],
      "metadata": {
        "id": "s9V3Lj8PxfhM"
      }
    },
    {
      "cell_type": "code",
      "source": [
        "kmeans = KMeans(n_clusters=4, init='k-means++', max_iter=300, random_state=42)\n",
        "kmeans.fit(X_transformed)\n",
        "\n",
        "y_kmeans = kmeans.predict(X_transformed)\n",
        "\n",
        "plt.scatter(X_transformed[:, 0], X_transformed[:, 1], c=y_kmeans)\n",
        "plt.title('Результаты кластеризации')\n",
        "plt.xlabel('Feature 1')\n",
        "plt.ylabel('Feature 2')\n",
        "plt.show()\n",
        "\n",
        "silhouette = silhouette_score(X_transformed, y_kmeans)\n",
        "db_index = davies_bouldin_score(X_transformed, y_kmeans)\n",
        "print(\"Silhouette Score:\", silhouette)\n",
        "print(\"Davies-Bouldin Index:\", db_index)"
      ],
      "metadata": {
        "colab": {
          "base_uri": "https://localhost:8080/",
          "height": 506
        },
        "id": "2wGcVd02Wi9v",
        "outputId": "d17478fe-3d75-46b7-8f50-5db8ac492221"
      },
      "execution_count": 130,
      "outputs": [
        {
          "output_type": "display_data",
          "data": {
            "text/plain": [
              "<Figure size 640x480 with 1 Axes>"
            ],
            "image/png": "[encoded data removed]"
          },
          "metadata": {}
        },
        {
          "output_type": "stream",
          "name": "stdout",
          "text": [
            "Silhouette Score: 0.347455770711243\n",
            "Davies-Bouldin Index: 0.9028460707483504\n"
          ]
        }
      ]
    },
    {
      "cell_type": "markdown",
      "source": [
        "# Ручная реализация"
      ],
      "metadata": {
        "id": "9ELjG0Y9gPmQ"
      }
    },
    {
      "cell_type": "code",
      "source": [
        "from my_kmeans import MyKMeans\n",
        "\n",
        "kmeans = MyKMeans(n_clusters=4, max_iter=300)\n",
        "kmeans.fit(X_transformed)\n",
        "\n",
        "y_kmeans = kmeans.predict(X_transformed)\n",
        "\n",
        "plt.scatter(X_transformed[:, 0], X_transformed[:, 1], c=y_kmeans)\n",
        "plt.title('Результаты кластеризации')\n",
        "plt.xlabel('Feature 1')\n",
        "plt.ylabel('Feature 2')\n",
        "plt.show()\n",
        "\n",
        "silhouette = silhouette_score(X_transformed, y_kmeans)\n",
        "db_index = davies_bouldin_score(X_transformed, y_kmeans)\n",
        "print(\"Silhouette Score:\", silhouette)\n",
        "print(\"Davies-Bouldin Index:\", db_index)"
      ],
      "metadata": {
        "colab": {
          "base_uri": "https://localhost:8080/",
          "height": 506
        },
        "id": "g-EL2P4ngRjC",
        "outputId": "4e1c64fb-5675-4d5a-f56a-7cf5e9671fca"
      },
      "execution_count": 131,
      "outputs": [
        {
          "output_type": "display_data",
          "data": {
            "text/plain": [
              "<Figure size 640x480 with 1 Axes>"
            ],
            "image/png": "[encoded data removed]"
          },
          "metadata": {}
        },
        {
          "output_type": "stream",
          "name": "stdout",
          "text": [
            "Silhouette Score: 0.3475899081505567\n",
            "Davies-Bouldin Index: 0.902647815277491\n"
          ]
        }
      ]
    }
  ]
}